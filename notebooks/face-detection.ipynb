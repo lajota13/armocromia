{
 "cells": [
  {
   "cell_type": "code",
   "execution_count": null,
   "id": "d883ddee",
   "metadata": {},
   "outputs": [],
   "source": [
    "import io\n",
    "from PIL import Image\n",
    "from urllib.request import urlopen\n",
    "from mtcnn import MTCNN\n",
    "import numpy as np"
   ]
  },
  {
   "cell_type": "code",
   "execution_count": null,
   "id": "ed7da163",
   "metadata": {},
   "outputs": [],
   "source": [
    "r = urlopen(\"https://media-assets.vanityfair.it/photos/614d8cead0884ce61dc33242/master/w_1920%2Cc_limit/photo1.jpg\")\n",
    "img = Image.open(io.BytesIO(r.read()))\n",
    "img.resize((128, 128))"
   ]
  },
  {
   "cell_type": "code",
   "execution_count": null,
   "id": "9caf1f02",
   "metadata": {},
   "outputs": [],
   "source": [
    "detector = MTCNN()\n",
    "np_img = np.array(img)\n",
    "faces = detector.detect_faces(np_img)"
   ]
  },
  {
   "cell_type": "code",
   "execution_count": null,
   "id": "fcd720ca",
   "metadata": {},
   "outputs": [],
   "source": [
    "x, y, w, h = faces[0][\"box\"]\n",
    "img.crop((x, y, x + w, y + h)).resize((128, 128))"
   ]
  }
 ],
 "metadata": {
  "kernelspec": {
   "display_name": "Python 3 (ipykernel)",
   "language": "python",
   "name": "python3"
  },
  "language_info": {
   "codemirror_mode": {
    "name": "ipython",
    "version": 3
   },
   "file_extension": ".py",
   "mimetype": "text/x-python",
   "name": "python",
   "nbconvert_exporter": "python",
   "pygments_lexer": "ipython3",
   "version": "3.8.10"
  }
 },
 "nbformat": 4,
 "nbformat_minor": 5
}
