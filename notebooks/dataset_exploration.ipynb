{
 "cells": [
  {
   "cell_type": "code",
   "execution_count": null,
   "id": "d9c1c572",
   "metadata": {},
   "outputs": [],
   "source": [
    "import glob\n",
    "import pandas as pd"
   ]
  },
  {
   "cell_type": "code",
   "execution_count": null,
   "id": "3e3060e5",
   "metadata": {},
   "outputs": [],
   "source": [
    "dataset_dir = \"../data/images/2022-01-05_21:58:53_preprocessed\""
   ]
  },
  {
   "cell_type": "code",
   "execution_count": null,
   "id": "28614e68",
   "metadata": {},
   "outputs": [],
   "source": [
    "paths = glob.glob(f\"{dataset_dir}/**/*.png\", recursive=True)\n",
    "df = pd.DataFrame({\"path\": paths})\n",
    "df[\"label\"] = df[\"path\"].apply(lambda p: p.split(\"/\")[-2])\n",
    "df[\"coarse_label\"] = df[\"label\"].apply(lambda l: l.split(\"_\")[0])\n",
    "df.head()"
   ]
  },
  {
   "cell_type": "code",
   "execution_count": null,
   "id": "60f7e634",
   "metadata": {},
   "outputs": [],
   "source": [
    "df[\"label\"].value_counts().plot.bar()"
   ]
  },
  {
   "cell_type": "code",
   "execution_count": null,
   "id": "8a72bd05",
   "metadata": {},
   "outputs": [],
   "source": [
    "from PIL import Image\n",
    "from tqdm.notebook import tqdm\n",
    "\n",
    "tqdm.pandas()\n",
    "\n",
    "df[\"image\"] = df[\"path\"].progress_apply(Image.open)"
   ]
  },
  {
   "cell_type": "code",
   "execution_count": null,
   "id": "745e70ca",
   "metadata": {},
   "outputs": [],
   "source": [
    "import matplotlib.pyplot as plt\n",
    "\n",
    "df[\"width\"] = df[\"image\"].apply(lambda img: img.size[0])\n",
    "df[\"height\"] = df[\"image\"].apply(lambda img: img.size[1])\n",
    "df[\"area\"] = df[\"width\"] * df[\"height\"]\n",
    "\n",
    "plt.figure()\n",
    "df.plot.scatter(\"width\", \"height\")\n",
    "plt.figure()\n",
    "df[\"area\"].plot.hist(bins=100)"
   ]
  },
  {
   "cell_type": "code",
   "execution_count": null,
   "id": "9595d9c4",
   "metadata": {},
   "outputs": [],
   "source": [
    "df = df.loc[df[\"area\"] > 10000, :]\n",
    "df[\"area\"].plot.hist(bins=100)"
   ]
  },
  {
   "cell_type": "code",
   "execution_count": null,
   "id": "2e7e4955",
   "metadata": {},
   "outputs": [],
   "source": [
    "import numpy as np\n",
    "\n",
    "\n",
    "def compute_histograms(img: Image.Image, bins: int = 50) -> np.ndarray:\n",
    "    img_hsv = np.array(img.convert(\"HSV\"))\n",
    "    h, _ = np.histogram(img_hsv[:, :, 0], range=(0, 255), bins=bins, density=True)\n",
    "    s, _ = np.histogram(img_hsv[:, :, 1], range=(0, 255), bins=bins, density=True)\n",
    "    v, _ = np.histogram(img_hsv[:, :, 2], range=(0, 255), bins=bins, density=True)\n",
    "    return np.stack([h, s, v])\n",
    "\n",
    "\n",
    "def show(df: pd.DataFrame, i: int) -> np.ndarray:\n",
    "    row = df.loc[i, :]\n",
    "    print(row[\"label\"])\n",
    "    display(row[\"image\"].resize((128, 128)))\n",
    "    histograms = compute_histograms(row[\"image\"])\n",
    "    plt.plot(histograms.T)\n",
    "    plt.legend([\"hue\", \"saturation\", \"value\"])\n"
   ]
  },
  {
   "cell_type": "code",
   "execution_count": null,
   "id": "729fa754",
   "metadata": {},
   "outputs": [],
   "source": [
    "df.loc[:, \"histograms\"] = df[\"image\"].progress_apply(compute_histograms)"
   ]
  },
  {
   "cell_type": "code",
   "execution_count": null,
   "id": "5b6fc22f",
   "metadata": {},
   "outputs": [],
   "source": [
    "df[\"features\"] = df[\"histograms\"].apply(np.ravel)"
   ]
  },
  {
   "cell_type": "code",
   "execution_count": null,
   "id": "fb47fcfd",
   "metadata": {},
   "outputs": [],
   "source": [
    "X = np.stack(df.loc[:, \"features\"])\n",
    "c = np.cov(X.T)\n",
    "plt.figure(figsize=(7, 7))\n",
    "plt.imshow(np.log(np.abs(c)))"
   ]
  },
  {
   "cell_type": "code",
   "execution_count": null,
   "id": "2fccf7c6",
   "metadata": {},
   "outputs": [],
   "source": [
    "from sklearn.model_selection import train_test_split\n",
    "\n",
    "df_train, df_test = train_test_split(df, test_size=0.2)\n",
    "X_train = np.stack(df_train[\"features\"])\n",
    "y_train = np.stack(df_train[\"coarse_label\"])\n",
    "X_test = np.stack(df_test[\"features\"])\n",
    "y_test = np.stack(df_test[\"coarse_label\"])\n",
    "\n",
    "def train(estimator):\n",
    "    estimator.fit(X_train, y_train)\n",
    "    y_train_pred = estimator.predict(X_train)\n",
    "    y_test_pred = estimator.predict(X_test)\n",
    "\n",
    "    display(ConfusionMatrixDisplay.from_predictions(y_train, y_train_pred))\n",
    "    print(f\"Train accuracy: {np.mean(y_train == y_train_pred)}\")\n",
    "    display(ConfusionMatrixDisplay.from_predictions(y_test, y_test_pred))\n",
    "    print(f\"Test in accuracy: {np.mean(y_test == y_test_pred)}\")"
   ]
  },
  {
   "cell_type": "code",
   "execution_count": null,
   "id": "857bdeec",
   "metadata": {},
   "outputs": [],
   "source": [
    "from sklearn.naive_bayes import GaussianNB\n",
    "from sklearn.metrics import ConfusionMatrixDisplay\n",
    "\n",
    "gnb = GaussianNB()\n",
    "\n",
    "train(gnb)"
   ]
  },
  {
   "cell_type": "code",
   "execution_count": null,
   "id": "cedf4d31",
   "metadata": {},
   "outputs": [],
   "source": [
    "from sklearn.svm import SVC\n",
    "\n",
    "svc = SVC(gamma=1000)\n",
    "\n",
    "train(svc)"
   ]
  },
  {
   "cell_type": "code",
   "execution_count": null,
   "id": "be23affb",
   "metadata": {},
   "outputs": [],
   "source": [
    "from sklearn.ensemble import RandomForestClassifier\n",
    "\n",
    "rfc = RandomForestClassifier(max_features=5)\n",
    "\n",
    "train(rfc)"
   ]
  },
  {
   "cell_type": "code",
   "execution_count": null,
   "id": "c39de241",
   "metadata": {},
   "outputs": [],
   "source": []
  }
 ],
 "metadata": {
  "kernelspec": {
   "display_name": "Python 3 (ipykernel)",
   "language": "python",
   "name": "python3"
  },
  "language_info": {
   "codemirror_mode": {
    "name": "ipython",
    "version": 3
   },
   "file_extension": ".py",
   "mimetype": "text/x-python",
   "name": "python",
   "nbconvert_exporter": "python",
   "pygments_lexer": "ipython3",
   "version": "3.8.10"
  }
 },
 "nbformat": 4,
 "nbformat_minor": 5
}
